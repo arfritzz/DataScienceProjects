{
 "cells": [
  {
   "cell_type": "markdown",
   "metadata": {},
   "source": [
    "# Goal\n",
    "\n",
    "The goal of this project is to use a Convolution Neural Network to classify handwritten numbers from the MNIST dataset."
   ]
  },
  {
   "cell_type": "code",
   "execution_count": 1,
   "metadata": {},
   "outputs": [],
   "source": [
    "import numpy as np\n",
    "import pandas as pd"
   ]
  },
  {
   "cell_type": "markdown",
   "metadata": {},
   "source": [
    "## Data \n",
    "\n",
    "First, import the data. This is a standard dataset so you can import the data with the keras package. Within the dataset, there is both training and testing data. "
   ]
  },
  {
   "cell_type": "code",
   "execution_count": 2,
   "metadata": {},
   "outputs": [],
   "source": [
    "from keras.datasets import mnist\n",
    "(X_train, Y_train), (X_test, Y_test) = mnist.load_data()"
   ]
  },
  {
   "cell_type": "markdown",
   "metadata": {},
   "source": [
    "We may want to look at the shape of the data to learn more about it. We see that there is 60,000 images in the training set and 10,000 in the testing set. The (28,28) means the images are 28X28. The X datasets include the images while the Y datasets include the labels. "
   ]
  },
  {
   "cell_type": "code",
   "execution_count": 3,
   "metadata": {},
   "outputs": [
    {
     "name": "stdout",
     "output_type": "stream",
     "text": [
      "Shape of X_train: (60000, 28, 28)\n",
      "Shape of Y_train: (60000,)\n",
      "Shape of X_test: (10000, 28, 28)\n",
      "Shape of Y_test: (10000,)\n"
     ]
    }
   ],
   "source": [
    "print(\"Shape of X_train:\", X_train.shape)\n",
    "print(\"Shape of Y_train:\", Y_train.shape)\n",
    "print(\"Shape of X_test:\", X_test.shape)\n",
    "print(\"Shape of Y_test:\", Y_test.shape)"
   ]
  },
  {
   "cell_type": "markdown",
   "metadata": {},
   "source": [
    "Now that I know more info about the data, I need to plot it to see what we are looking at. I first take a look at only the first image, then I write a function to look at the first 9 images. "
   ]
  },
  {
   "cell_type": "code",
   "execution_count": 4,
   "metadata": {},
   "outputs": [
    {
     "data": {
      "image/png": "[encoded data removed]",
      "text/plain": [
       "<Figure size 640x480 with 1 Axes>"
      ]
     },
     "metadata": {},
     "output_type": "display_data"
    }
   ],
   "source": [
    "from matplotlib import pyplot\n",
    "first_image = X_train[0]\n",
    "first_image = np.array(first_image, dtype='float')\n",
    "pixels = first_image.reshape((28, 28))\n",
    "pyplot.imshow(pixels, cmap='gray')\n",
    "pyplot.show()"
   ]
  },
  {
   "cell_type": "code",
   "execution_count": 5,
   "metadata": {},
   "outputs": [
    {
     "data": {
      "image/png": "[encoded data removed]",
      "text/plain": [
       "<Figure size 640x480 with 9 Axes>"
      ]
     },
     "metadata": {},
     "output_type": "display_data"
    }
   ],
   "source": [
    "for i in range(9):  \n",
    "    # defines subplot\n",
    "    pyplot.subplot(330 + 1 + i)\n",
    "    pyplot.imshow(X_train[i], cmap=pyplot.get_cmap('gray'))\n",
    "pyplot.show()"
   ]
  },
  {
   "cell_type": "markdown",
   "metadata": {},
   "source": [
    "## Build a CNN Model \n",
    "\n",
    "With the data preprocessing complete, I am now ready to develop a model. I will use the following libraries from tensorflow in the analysis.  "
   ]
  },
  {
   "cell_type": "code",
   "execution_count": 6,
   "metadata": {},
   "outputs": [],
   "source": [
    "import tensorflow as tf\n",
    "from tensorflow.keras import layers, models\n",
    "from tensorflow.keras.datasets import mnist\n",
    "from tensorflow.keras.utils import to_categorical"
   ]
  },
  {
   "cell_type": "markdown",
   "metadata": {},
   "source": [
    "I normalize the data by diving the values by 255. This is because the pixel range is from 0 to 256 so this will convert the range of values from 0 to 1. "
   ]
  },
  {
   "cell_type": "code",
   "execution_count": 7,
   "metadata": {},
   "outputs": [],
   "source": [
    "X_train = X_train.reshape((60000, 28, 28, 1)).astype('float32')\n",
    "X_test = X_test.reshape((10000, 28, 28, 1)).astype('float32')\n",
    "\n",
    "X_train = X_train / 255\n",
    "X_test = X_test / 255"
   ]
  },
  {
   "cell_type": "markdown",
   "metadata": {},
   "source": [
    "Next I categorize the resulting vectors (ie the labels). Because the digits are between 0 and 9, we have 10 categories. If the number fits in in the current category, then it is a 1, otherwise it is a 0.  "
   ]
  },
  {
   "cell_type": "code",
   "execution_count": 8,
   "metadata": {},
   "outputs": [],
   "source": [
    "Y_train = to_categorical(Y_train)\n",
    "Y_test = to_categorical(Y_test)"
   ]
  },
  {
   "cell_type": "markdown",
   "metadata": {},
   "source": [
    "Now I can actually build the CNN model. I started with a sequential model. This lets me build the model layer by layer. \n",
    "\n",
    "A little bit about CNNs. A CNN is essentially 4 important layers: convolution layer, ReLU layer, pooling layer, and fully connected layer. \n",
    "- The convolution layer extracts the important features from the data. This helps the network learn patterns.\n",
    "- The ReLU (non linearity) layer basically sets all negative pixels to 0. This helps better locate features. \n",
    "- Pooling layer reduces the dimensionality of the image. This helps to prevent overfitting.\n",
    "- classification layer (fully connected layer) connects all neurons from previous layer to current layer. You can use a softmax activation function.\n",
    "\n",
    "I started with the following layers in the model: \n",
    "1. convolution layer (32 3x3 filters)\n",
    "2. pooling layer\n",
    "3. flatten data\n",
    "4. dense layer \n",
    "\n",
    "Once I built the model, I compiled it with the adam optimizer as this is typically a good fit for general use cases. \n",
    "\n",
    "I fit the model and checked the accuracy then tested it on a random sample from the testing dataset. \n"
   ]
  },
  {
   "cell_type": "code",
   "execution_count": 9,
   "metadata": {},
   "outputs": [],
   "source": [
    "model1 = models.Sequential()\n",
    "model1.add(layers.Conv2D(32, (3, 3), activation='relu', input_shape=(28, 28, 1)))\n",
    "model1.add(layers.MaxPooling2D((2, 2)))\n",
    "model1.add(layers.Flatten())\n",
    "model1.add(layers.Dense(10, activation='softmax'))"
   ]
  },
  {
   "cell_type": "code",
   "execution_count": 10,
   "metadata": {},
   "outputs": [],
   "source": [
    "model1.compile(optimizer='adam',\n",
    "              loss='categorical_crossentropy',\n",
    "              metrics=['accuracy'])"
   ]
  },
  {
   "cell_type": "code",
   "execution_count": 11,
   "metadata": {},
   "outputs": [
    {
     "name": "stdout",
     "output_type": "stream",
     "text": [
      "Epoch 1/5\n",
      "1875/1875 [==============================] - 6s 3ms/step - loss: 0.2090 - accuracy: 0.9403 - val_loss: 0.0853 - val_accuracy: 0.9734\n",
      "Epoch 2/5\n",
      "1875/1875 [==============================] - 6s 3ms/step - loss: 0.0768 - accuracy: 0.9775 - val_loss: 0.0663 - val_accuracy: 0.9779\n",
      "Epoch 3/5\n",
      "1875/1875 [==============================] - 6s 3ms/step - loss: 0.0582 - accuracy: 0.9825 - val_loss: 0.0673 - val_accuracy: 0.9771\n",
      "Epoch 4/5\n",
      "1875/1875 [==============================] - 6s 3ms/step - loss: 0.0473 - accuracy: 0.9857 - val_loss: 0.0591 - val_accuracy: 0.9811\n",
      "Epoch 5/5\n",
      "1875/1875 [==============================] - 6s 3ms/step - loss: 0.0408 - accuracy: 0.9875 - val_loss: 0.0539 - val_accuracy: 0.9818\n"
     ]
    },
    {
     "data": {
      "text/plain": [
       "<keras.src.callbacks.History at 0x29916cad0>"
      ]
     },
     "execution_count": 11,
     "metadata": {},
     "output_type": "execute_result"
    }
   ],
   "source": [
    "model1.fit(X_train, Y_train, epochs=5, batch_size=32, validation_data=(X_test, Y_test))"
   ]
  },
  {
   "cell_type": "code",
   "execution_count": 12,
   "metadata": {},
   "outputs": [
    {
     "name": "stdout",
     "output_type": "stream",
     "text": [
      "313/313 [==============================] - 0s 958us/step - loss: 0.0539 - accuracy: 0.9818\n",
      "Test accuracy: 0.9818000197410583\n"
     ]
    }
   ],
   "source": [
    "test_loss, test_acc = model1.evaluate(X_test, Y_test)\n",
    "print(f'Test accuracy: {test_acc}')"
   ]
  },
  {
   "cell_type": "code",
   "execution_count": 13,
   "metadata": {},
   "outputs": [
    {
     "data": {
      "image/png": "[encoded data removed]",
      "text/plain": [
       "<Figure size 640x480 with 1 Axes>"
      ]
     },
     "metadata": {},
     "output_type": "display_data"
    },
    {
     "name": "stdout",
     "output_type": "stream",
     "text": [
      "313/313 [==============================] - 0s 1ms/step\n",
      "The actual label is: 6\n",
      "The predicted label is:  6\n"
     ]
    }
   ],
   "source": [
    "random_index = np.random.randint(0, 10000)\n",
    "\n",
    "image = X_test[random_index]\n",
    "\n",
    "# this is an image of the current value\n",
    "pyplot.imshow(image, cmap='gray')\n",
    "pyplot.show()\n",
    "\n",
    "# this is the models prediction\n",
    "\n",
    "prediction = model1.predict(X_test)\n",
    "print(\"The actual label is:\", np.argmax(Y_test[random_index]))\n",
    "print(\"The predicted label is: \", np.argmax(prediction[random_index]))"
   ]
  },
  {
   "cell_type": "markdown",
   "metadata": {},
   "source": [
    "### Model, again\n",
    "\n",
    "I tested my skills and added a couple more layers to the neural network to see if it would perform better. "
   ]
  },
  {
   "cell_type": "code",
   "execution_count": 14,
   "metadata": {},
   "outputs": [],
   "source": [
    "model = models.Sequential()\n",
    "model.add(layers.Conv2D(32, (3, 3), activation='relu', input_shape=(28, 28, 1)))\n",
    "model.add(layers.MaxPooling2D((2, 2)))\n",
    "model.add(layers.Conv2D(64, (3, 3), activation='relu'))\n",
    "model.add(layers.MaxPooling2D((2, 2)))\n",
    "model.add(layers.Conv2D(64, (3, 3), activation='relu'))\n",
    "model.add(layers.Flatten())\n",
    "model.add(layers.Dense(64, activation='relu'))\n",
    "model.add(layers.Dense(10, activation='softmax'))"
   ]
  },
  {
   "cell_type": "code",
   "execution_count": 15,
   "metadata": {},
   "outputs": [],
   "source": [
    "model.compile(optimizer='adam',\n",
    "              loss='categorical_crossentropy',\n",
    "              metrics=['accuracy'])"
   ]
  },
  {
   "cell_type": "markdown",
   "metadata": {},
   "source": [
    "An epoch is a pass through the training set. When fitting the data, 5 epochs keeps the training time short but also gives a higher accuracy. I could play around with this but since this is just practice, there is no need. "
   ]
  },
  {
   "cell_type": "code",
   "execution_count": 16,
   "metadata": {},
   "outputs": [
    {
     "name": "stdout",
     "output_type": "stream",
     "text": [
      "Epoch 1/5\n",
      "938/938 [==============================] - 9s 10ms/step - loss: 0.1764 - accuracy: 0.9457 - val_loss: 0.0606 - val_accuracy: 0.9814\n",
      "Epoch 2/5\n",
      "938/938 [==============================] - 10s 11ms/step - loss: 0.0514 - accuracy: 0.9846 - val_loss: 0.0399 - val_accuracy: 0.9868\n",
      "Epoch 3/5\n",
      "938/938 [==============================] - 11s 11ms/step - loss: 0.0355 - accuracy: 0.9887 - val_loss: 0.0343 - val_accuracy: 0.9878\n",
      "Epoch 4/5\n",
      "938/938 [==============================] - 9s 10ms/step - loss: 0.0275 - accuracy: 0.9916 - val_loss: 0.0292 - val_accuracy: 0.9904\n",
      "Epoch 5/5\n",
      "938/938 [==============================] - 9s 9ms/step - loss: 0.0221 - accuracy: 0.9931 - val_loss: 0.0367 - val_accuracy: 0.9884\n"
     ]
    },
    {
     "data": {
      "text/plain": [
       "<keras.src.callbacks.History at 0x2990331d0>"
      ]
     },
     "execution_count": 16,
     "metadata": {},
     "output_type": "execute_result"
    }
   ],
   "source": [
    "model.fit(X_train, Y_train, epochs=5, batch_size=64, validation_data=(X_test, Y_test))"
   ]
  },
  {
   "cell_type": "code",
   "execution_count": 17,
   "metadata": {},
   "outputs": [
    {
     "name": "stdout",
     "output_type": "stream",
     "text": [
      "313/313 [==============================] - 1s 2ms/step - loss: 0.0367 - accuracy: 0.9884\n",
      "Test accuracy: 0.9883999824523926\n"
     ]
    }
   ],
   "source": [
    "test_loss, test_acc = model.evaluate(X_test, Y_test)\n",
    "print(f'Test accuracy: {test_acc}')"
   ]
  },
  {
   "cell_type": "markdown",
   "metadata": {},
   "source": [
    "I want to minimize loss and maximize accuracy. By evaluating the model, I see that I have done just that. Adding more layers did improve the accuracy but it was already good before so there is a tradeoff. "
   ]
  },
  {
   "cell_type": "code",
   "execution_count": 18,
   "metadata": {},
   "outputs": [
    {
     "data": {
      "image/png": "[encoded data removed]",
      "text/plain": [
       "<Figure size 640x480 with 1 Axes>"
      ]
     },
     "metadata": {},
     "output_type": "display_data"
    },
    {
     "name": "stdout",
     "output_type": "stream",
     "text": [
      "313/313 [==============================] - 0s 1ms/step\n",
      "The actual label is: 9\n",
      "The predicted label is:  9\n"
     ]
    }
   ],
   "source": [
    "random_index = np.random.randint(0, 10000)\n",
    "\n",
    "image = X_test[random_index]\n",
    "\n",
    "# this is an image of the current value\n",
    "pyplot.imshow(image, cmap='gray')\n",
    "pyplot.show()\n",
    "\n",
    "# this is the models prediction\n",
    "\n",
    "prediction = model1.predict(X_test)\n",
    "print(\"The actual label is:\", np.argmax(Y_test[random_index]))\n",
    "print(\"The predicted label is: \", np.argmax(prediction[random_index]))\n"
   ]
  },
  {
   "cell_type": "markdown",
   "metadata": {},
   "source": []
  }
 ],
 "metadata": {
  "kernelspec": {
   "display_name": "Python 3",
   "language": "python",
   "name": "python3"
  },
  "language_info": {
   "codemirror_mode": {
    "name": "ipython",
    "version": 3
   },
   "file_extension": ".py",
   "mimetype": "text/x-python",
   "name": "python",
   "nbconvert_exporter": "python",
   "pygments_lexer": "ipython3",
   "version": "3.11.1"
  }
 },
 "nbformat": 4,
 "nbformat_minor": 2
}
