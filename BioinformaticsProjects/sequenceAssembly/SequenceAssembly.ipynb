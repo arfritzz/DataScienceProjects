{
 "cells": [
  {
   "cell_type": "markdown",
   "metadata": {},
   "source": [
    "# Goal \n",
    "\n",
    "Implement a sequence assembly algorithm to assemble fragmented reads\n",
    "\n",
    "## Resources \n",
    "\n",
    "https://stackoverflow.com/questions/58598805/how-to-find-the-longest-common-suffix-prefix-between-two-strings-in-python-in-a"
   ]
  },
  {
   "cell_type": "code",
   "execution_count": 1,
   "metadata": {},
   "outputs": [],
   "source": [
    "import numpy as np\n",
    "import pandas as pd\n",
    "import csv\n",
    "import itertools "
   ]
  },
  {
   "cell_type": "markdown",
   "metadata": {},
   "source": [
    "Read in the table and create dataframe "
   ]
  },
  {
   "cell_type": "code",
   "execution_count": 2,
   "metadata": {},
   "outputs": [],
   "source": [
    "df = pd.read_csv('fragmented_reads_table.csv')\n",
    "seq_list = df['Sequence'].to_list()"
   ]
  },
  {
   "cell_type": "markdown",
   "metadata": {},
   "source": [
    "# overlap \n",
    "\n",
    "This function returns the longest suffix of a that matches b. \n",
    "\n",
    "For example, if you had string XYZABC and ABCDEF the overlap would be 3. "
   ]
  },
  {
   "cell_type": "code",
   "execution_count": 3,
   "metadata": {},
   "outputs": [],
   "source": [
    "def overlap(a, b, min_length):\n",
    "    \"\"\" Return length of longest suffix of 'a' matching\n",
    "        a prefix of 'b' that is at least 'min_length'\n",
    "        characters long.  If no such overlap exists,\n",
    "        return 0. \"\"\"\n",
    "    start = 0  # start all the way at the left\n",
    "    while True:\n",
    "        start = a.find(b[:min_length], start)  # look for b's prefix in a\n",
    "        if start == -1:  # no more occurrences to right\n",
    "            return 0\n",
    "        # found occurrence; check for full suffix/prefix match\n",
    "        if b.startswith(a[start:]):\n",
    "            return len(a)-start\n",
    "        start += 1  # move just past previous match"
   ]
  },
  {
   "cell_type": "markdown",
   "metadata": {},
   "source": [
    "# find start & end \n",
    "\n",
    "need to find the start & end of the sequence to know where to begin/end assembly "
   ]
  },
  {
   "cell_type": "code",
   "execution_count": 4,
   "metadata": {},
   "outputs": [],
   "source": [
    "def find_start(alphabet, match_length): \n",
    "\n",
    "    start_list = alphabet.copy() \n",
    "    for pair in itertools.permutations(alphabet,2): \n",
    "            #print(pair)\n",
    "            for i in range(len(pair)-1): \n",
    "                overlap_len = (overlap(pair[i],pair[i+1],match_length))\n",
    "                if (overlap_len > 0): \n",
    "                    #print(pair[i+1])\n",
    "                    pair_to_remove = pair[i+1]\n",
    "                    if(pair_to_remove in start_list):    \n",
    "                        #print(\"here\")\n",
    "                        start_list.remove(pair_to_remove)\n",
    "\n",
    "    return(start_list)"
   ]
  },
  {
   "cell_type": "code",
   "execution_count": 26,
   "metadata": {},
   "outputs": [
    {
     "data": {
      "text/plain": [
       "['CCCTGTCTACCACCCAGACTATCGTGTAGTTCTGCCTGTTCCGTAAGTCGTAGATTGCTATCCTGGAAATCATCGTGCTCAGGATGTTAATATCTAGCGT']"
      ]
     },
     "execution_count": 26,
     "metadata": {},
     "output_type": "execute_result"
    }
   ],
   "source": [
    "find_start(seq_list,5)"
   ]
  },
  {
   "cell_type": "code",
   "execution_count": 6,
   "metadata": {},
   "outputs": [
    {
     "data": {
      "text/plain": [
       "'CCCTGTCTACCACCCAGACTATCGTGTAGTTCTGCCTGTTCCGTAAGTCGTAGATTGCTATCCTGGAAATCATCGTGCTCAGGATGTTAATATCTAGCGT'"
      ]
     },
     "execution_count": 6,
     "metadata": {},
     "output_type": "execute_result"
    }
   ],
   "source": [
    "seq_list[0]"
   ]
  },
  {
   "cell_type": "code",
   "execution_count": 7,
   "metadata": {},
   "outputs": [
    {
     "name": "stdout",
     "output_type": "stream",
     "text": [
      "True\n"
     ]
    }
   ],
   "source": [
    "print(seq_list[0]== find_start(seq_list,5)[0])"
   ]
  },
  {
   "cell_type": "markdown",
   "metadata": {},
   "source": [
    "Says this is the start \n",
    "\n",
    "CCCTGTCTACCACCCAGACTATCGTGTAGTTCTGCCTGTTCCGTAAGTCGTAGATTGCTATCCTGGAAATCATCGTGCTCAGGATGTTAATATCTAGCGT"
   ]
  },
  {
   "cell_type": "code",
   "execution_count": 8,
   "metadata": {},
   "outputs": [],
   "source": [
    "def find_end(alphabet, match_length): \n",
    "\n",
    "    start_list = alphabet.copy() \n",
    "    for pair in itertools.permutations(alphabet,2): \n",
    "            #print(pair)\n",
    "            for i in range(len(pair)-1): \n",
    "                overlap_len = (overlap(pair[i],pair[i+1],match_length))\n",
    "                if (overlap_len > 0): \n",
    "                    #print(pair[i+1])\n",
    "                    pair_to_remove = pair[i]\n",
    "                    if(pair_to_remove in start_list):    \n",
    "                        #print(\"here\")\n",
    "                        start_list.remove(pair_to_remove)\n",
    "\n",
    "    return(start_list)"
   ]
  },
  {
   "cell_type": "code",
   "execution_count": 9,
   "metadata": {},
   "outputs": [
    {
     "data": {
      "text/plain": [
       "['CGCGCCCTGCAGAATCCCAAGATTCGCCAGGCGGCGAACGAGGCCTACGGGCAACGGGTTATACTTAGCTGCAACCAACGCCTTTCCACATGTTTGAGAA']"
      ]
     },
     "execution_count": 9,
     "metadata": {},
     "output_type": "execute_result"
    }
   ],
   "source": [
    "find_end(seq_list,5)"
   ]
  },
  {
   "cell_type": "markdown",
   "metadata": {},
   "source": [
    "Says this is the end \n",
    "\n",
    "CGCGCCCTGCAGAATCCCAAGATTCGCCAGGCGGCGAACGAGGCCTACGGGCAACGGGTTATACTTAGCTGCAACCAACGCCTTTCCACATGTTTGAGAA"
   ]
  },
  {
   "cell_type": "code",
   "execution_count": 10,
   "metadata": {},
   "outputs": [
    {
     "name": "stdout",
     "output_type": "stream",
     "text": [
      "True\n"
     ]
    }
   ],
   "source": [
    "print(seq_list[-1] == find_end(seq_list,5)[0])"
   ]
  },
  {
   "cell_type": "markdown",
   "metadata": {},
   "source": [
    "# Layout "
   ]
  },
  {
   "cell_type": "markdown",
   "metadata": {},
   "source": [
    "Now we can create the dataframe where we work. The dataframe will contain two sequences and their overlap value. "
   ]
  },
  {
   "cell_type": "code",
   "execution_count": 11,
   "metadata": {},
   "outputs": [],
   "source": [
    "pair_dict = [] \n",
    "\n",
    "for pair in itertools.permutations(seq_list,2):\n",
    "    my_pair = (pair[0], pair[1] ,overlap(pair[0], pair[1],50))\n",
    "    pair_dict.append(my_pair)"
   ]
  },
  {
   "cell_type": "code",
   "execution_count": 12,
   "metadata": {},
   "outputs": [],
   "source": [
    "from pandas import DataFrame\n",
    "df = DataFrame(pair_dict,columns=['start', 'end', 'overlap'])"
   ]
  },
  {
   "cell_type": "markdown",
   "metadata": {},
   "source": [
    "Here is that aforementioned dataframe."
   ]
  },
  {
   "cell_type": "code",
   "execution_count": 13,
   "metadata": {},
   "outputs": [
    {
     "data": {
      "text/html": [
       "<div>\n",
       "<style scoped>\n",
       "    .dataframe tbody tr th:only-of-type {\n",
       "        vertical-align: middle;\n",
       "    }\n",
       "\n",
       "    .dataframe tbody tr th {\n",
       "        vertical-align: top;\n",
       "    }\n",
       "\n",
       "    .dataframe thead th {\n",
       "        text-align: right;\n",
       "    }\n",
       "</style>\n",
       "<table border=\"1\" class=\"dataframe\">\n",
       "  <thead>\n",
       "    <tr style=\"text-align: right;\">\n",
       "      <th></th>\n",
       "      <th>start</th>\n",
       "      <th>end</th>\n",
       "      <th>overlap</th>\n",
       "    </tr>\n",
       "  </thead>\n",
       "  <tbody>\n",
       "    <tr>\n",
       "      <th>0</th>\n",
       "      <td>CCCTGTCTACCACCCAGACTATCGTGTAGTTCTGCCTGTTCCGTAA...</td>\n",
       "      <td>AGACTATCGTGTAGTTCTGCCTGTTCCGTAAGTCGTAGATTGCTAT...</td>\n",
       "      <td>85</td>\n",
       "    </tr>\n",
       "    <tr>\n",
       "      <th>1</th>\n",
       "      <td>CCCTGTCTACCACCCAGACTATCGTGTAGTTCTGCCTGTTCCGTAA...</td>\n",
       "      <td>TCTGCCTGTTCCGTAAGTCGTAGATTGCTATCCTGGAAATCATCGT...</td>\n",
       "      <td>70</td>\n",
       "    </tr>\n",
       "    <tr>\n",
       "      <th>2</th>\n",
       "      <td>CCCTGTCTACCACCCAGACTATCGTGTAGTTCTGCCTGTTCCGTAA...</td>\n",
       "      <td>AGTCGTAGATTGCTATCCTGGAAATCATCGTGCTCAGGATGTTAAT...</td>\n",
       "      <td>55</td>\n",
       "    </tr>\n",
       "    <tr>\n",
       "      <th>3</th>\n",
       "      <td>CCCTGTCTACCACCCAGACTATCGTGTAGTTCTGCCTGTTCCGTAA...</td>\n",
       "      <td>TCCTGGAAATCATCGTGCTCAGGATGTTAATATCTAGCGTCCTACG...</td>\n",
       "      <td>0</td>\n",
       "    </tr>\n",
       "    <tr>\n",
       "      <th>4</th>\n",
       "      <td>CCCTGTCTACCACCCAGACTATCGTGTAGTTCTGCCTGTTCCGTAA...</td>\n",
       "      <td>TGCTCAGGATGTTAATATCTAGCGTCCTACGTTACGAGTTGGCAGA...</td>\n",
       "      <td>0</td>\n",
       "    </tr>\n",
       "    <tr>\n",
       "      <th>...</th>\n",
       "      <td>...</td>\n",
       "      <td>...</td>\n",
       "      <td>...</td>\n",
       "    </tr>\n",
       "    <tr>\n",
       "      <th>15997</th>\n",
       "      <td>CGCGCCCTGCAGAATCCCAAGATTCGCCAGGCGGCGAACGAGGCCT...</td>\n",
       "      <td>CGTCCATGCTCATGTATTTATATGACGGCCAAAAATGGAGATATTA...</td>\n",
       "      <td>0</td>\n",
       "    </tr>\n",
       "    <tr>\n",
       "      <th>15998</th>\n",
       "      <td>CGCGCCCTGCAGAATCCCAAGATTCGCCAGGCGGCGAACGAGGCCT...</td>\n",
       "      <td>ATTTATATGACGGCCAAAAATGGAGATATTATAGTCGACCAAGTAT...</td>\n",
       "      <td>0</td>\n",
       "    </tr>\n",
       "    <tr>\n",
       "      <th>15999</th>\n",
       "      <td>CGCGCCCTGCAGAATCCCAAGATTCGCCAGGCGGCGAACGAGGCCT...</td>\n",
       "      <td>AAAAATGGAGATATTATAGTCGACCAAGTATTGGCGTCGAACAACC...</td>\n",
       "      <td>0</td>\n",
       "    </tr>\n",
       "    <tr>\n",
       "      <th>16000</th>\n",
       "      <td>CGCGCCCTGCAGAATCCCAAGATTCGCCAGGCGGCGAACGAGGCCT...</td>\n",
       "      <td>ATAGTCGACCAAGTATTGGCGTCGAACAACCGCGCCCTGCAGAATC...</td>\n",
       "      <td>0</td>\n",
       "    </tr>\n",
       "    <tr>\n",
       "      <th>16001</th>\n",
       "      <td>CGCGCCCTGCAGAATCCCAAGATTCGCCAGGCGGCGAACGAGGCCT...</td>\n",
       "      <td>TTGGCGTCGAACAACCGCGCCCTGCAGAATCCCAAGATTCGCCAGG...</td>\n",
       "      <td>0</td>\n",
       "    </tr>\n",
       "  </tbody>\n",
       "</table>\n",
       "<p>16002 rows × 3 columns</p>\n",
       "</div>"
      ],
      "text/plain": [
       "                                                   start  \\\n",
       "0      CCCTGTCTACCACCCAGACTATCGTGTAGTTCTGCCTGTTCCGTAA...   \n",
       "1      CCCTGTCTACCACCCAGACTATCGTGTAGTTCTGCCTGTTCCGTAA...   \n",
       "2      CCCTGTCTACCACCCAGACTATCGTGTAGTTCTGCCTGTTCCGTAA...   \n",
       "3      CCCTGTCTACCACCCAGACTATCGTGTAGTTCTGCCTGTTCCGTAA...   \n",
       "4      CCCTGTCTACCACCCAGACTATCGTGTAGTTCTGCCTGTTCCGTAA...   \n",
       "...                                                  ...   \n",
       "15997  CGCGCCCTGCAGAATCCCAAGATTCGCCAGGCGGCGAACGAGGCCT...   \n",
       "15998  CGCGCCCTGCAGAATCCCAAGATTCGCCAGGCGGCGAACGAGGCCT...   \n",
       "15999  CGCGCCCTGCAGAATCCCAAGATTCGCCAGGCGGCGAACGAGGCCT...   \n",
       "16000  CGCGCCCTGCAGAATCCCAAGATTCGCCAGGCGGCGAACGAGGCCT...   \n",
       "16001  CGCGCCCTGCAGAATCCCAAGATTCGCCAGGCGGCGAACGAGGCCT...   \n",
       "\n",
       "                                                     end  overlap  \n",
       "0      AGACTATCGTGTAGTTCTGCCTGTTCCGTAAGTCGTAGATTGCTAT...       85  \n",
       "1      TCTGCCTGTTCCGTAAGTCGTAGATTGCTATCCTGGAAATCATCGT...       70  \n",
       "2      AGTCGTAGATTGCTATCCTGGAAATCATCGTGCTCAGGATGTTAAT...       55  \n",
       "3      TCCTGGAAATCATCGTGCTCAGGATGTTAATATCTAGCGTCCTACG...        0  \n",
       "4      TGCTCAGGATGTTAATATCTAGCGTCCTACGTTACGAGTTGGCAGA...        0  \n",
       "...                                                  ...      ...  \n",
       "15997  CGTCCATGCTCATGTATTTATATGACGGCCAAAAATGGAGATATTA...        0  \n",
       "15998  ATTTATATGACGGCCAAAAATGGAGATATTATAGTCGACCAAGTAT...        0  \n",
       "15999  AAAAATGGAGATATTATAGTCGACCAAGTATTGGCGTCGAACAACC...        0  \n",
       "16000  ATAGTCGACCAAGTATTGGCGTCGAACAACCGCGCCCTGCAGAATC...        0  \n",
       "16001  TTGGCGTCGAACAACCGCGCCCTGCAGAATCCCAAGATTCGCCAGG...        0  \n",
       "\n",
       "[16002 rows x 3 columns]"
      ]
     },
     "execution_count": 13,
     "metadata": {},
     "output_type": "execute_result"
    }
   ],
   "source": [
    "df"
   ]
  },
  {
   "cell_type": "markdown",
   "metadata": {},
   "source": [
    "Now we want to remove all rows where there is no overlap "
   ]
  },
  {
   "cell_type": "code",
   "execution_count": 15,
   "metadata": {},
   "outputs": [],
   "source": [
    "updated_dict = ([i for i in pair_dict if i[2] != 0 ])"
   ]
  },
  {
   "cell_type": "code",
   "execution_count": 17,
   "metadata": {},
   "outputs": [],
   "source": [
    "from pandas import DataFrame\n",
    "updated_df = DataFrame(updated_dict,columns=['start', 'end', 'overlap'])"
   ]
  },
  {
   "cell_type": "code",
   "execution_count": 27,
   "metadata": {},
   "outputs": [
    {
     "data": {
      "text/html": [
       "<div>\n",
       "<style scoped>\n",
       "    .dataframe tbody tr th:only-of-type {\n",
       "        vertical-align: middle;\n",
       "    }\n",
       "\n",
       "    .dataframe tbody tr th {\n",
       "        vertical-align: top;\n",
       "    }\n",
       "\n",
       "    .dataframe thead th {\n",
       "        text-align: right;\n",
       "    }\n",
       "</style>\n",
       "<table border=\"1\" class=\"dataframe\">\n",
       "  <thead>\n",
       "    <tr style=\"text-align: right;\">\n",
       "      <th></th>\n",
       "      <th>start</th>\n",
       "      <th>end</th>\n",
       "      <th>overlap</th>\n",
       "    </tr>\n",
       "  </thead>\n",
       "  <tbody>\n",
       "    <tr>\n",
       "      <th>0</th>\n",
       "      <td>CCCTGTCTACCACCCAGACTATCGTGTAGTTCTGCCTGTTCCGTAA...</td>\n",
       "      <td>AGACTATCGTGTAGTTCTGCCTGTTCCGTAAGTCGTAGATTGCTAT...</td>\n",
       "      <td>85</td>\n",
       "    </tr>\n",
       "    <tr>\n",
       "      <th>1</th>\n",
       "      <td>CCCTGTCTACCACCCAGACTATCGTGTAGTTCTGCCTGTTCCGTAA...</td>\n",
       "      <td>TCTGCCTGTTCCGTAAGTCGTAGATTGCTATCCTGGAAATCATCGT...</td>\n",
       "      <td>70</td>\n",
       "    </tr>\n",
       "    <tr>\n",
       "      <th>2</th>\n",
       "      <td>CCCTGTCTACCACCCAGACTATCGTGTAGTTCTGCCTGTTCCGTAA...</td>\n",
       "      <td>AGTCGTAGATTGCTATCCTGGAAATCATCGTGCTCAGGATGTTAAT...</td>\n",
       "      <td>55</td>\n",
       "    </tr>\n",
       "    <tr>\n",
       "      <th>3</th>\n",
       "      <td>AGACTATCGTGTAGTTCTGCCTGTTCCGTAAGTCGTAGATTGCTAT...</td>\n",
       "      <td>TCTGCCTGTTCCGTAAGTCGTAGATTGCTATCCTGGAAATCATCGT...</td>\n",
       "      <td>85</td>\n",
       "    </tr>\n",
       "    <tr>\n",
       "      <th>4</th>\n",
       "      <td>AGACTATCGTGTAGTTCTGCCTGTTCCGTAAGTCGTAGATTGCTAT...</td>\n",
       "      <td>AGTCGTAGATTGCTATCCTGGAAATCATCGTGCTCAGGATGTTAAT...</td>\n",
       "      <td>70</td>\n",
       "    </tr>\n",
       "    <tr>\n",
       "      <th>...</th>\n",
       "      <td>...</td>\n",
       "      <td>...</td>\n",
       "      <td>...</td>\n",
       "    </tr>\n",
       "    <tr>\n",
       "      <th>370</th>\n",
       "      <td>AAAAATGGAGATATTATAGTCGACCAAGTATTGGCGTCGAACAACC...</td>\n",
       "      <td>TTGGCGTCGAACAACCGCGCCCTGCAGAATCCCAAGATTCGCCAGG...</td>\n",
       "      <td>70</td>\n",
       "    </tr>\n",
       "    <tr>\n",
       "      <th>371</th>\n",
       "      <td>AAAAATGGAGATATTATAGTCGACCAAGTATTGGCGTCGAACAACC...</td>\n",
       "      <td>CGCGCCCTGCAGAATCCCAAGATTCGCCAGGCGGCGAACGAGGCCT...</td>\n",
       "      <td>55</td>\n",
       "    </tr>\n",
       "    <tr>\n",
       "      <th>372</th>\n",
       "      <td>ATAGTCGACCAAGTATTGGCGTCGAACAACCGCGCCCTGCAGAATC...</td>\n",
       "      <td>TTGGCGTCGAACAACCGCGCCCTGCAGAATCCCAAGATTCGCCAGG...</td>\n",
       "      <td>85</td>\n",
       "    </tr>\n",
       "    <tr>\n",
       "      <th>373</th>\n",
       "      <td>ATAGTCGACCAAGTATTGGCGTCGAACAACCGCGCCCTGCAGAATC...</td>\n",
       "      <td>CGCGCCCTGCAGAATCCCAAGATTCGCCAGGCGGCGAACGAGGCCT...</td>\n",
       "      <td>70</td>\n",
       "    </tr>\n",
       "    <tr>\n",
       "      <th>374</th>\n",
       "      <td>TTGGCGTCGAACAACCGCGCCCTGCAGAATCCCAAGATTCGCCAGG...</td>\n",
       "      <td>CGCGCCCTGCAGAATCCCAAGATTCGCCAGGCGGCGAACGAGGCCT...</td>\n",
       "      <td>85</td>\n",
       "    </tr>\n",
       "  </tbody>\n",
       "</table>\n",
       "<p>375 rows × 3 columns</p>\n",
       "</div>"
      ],
      "text/plain": [
       "                                                 start  \\\n",
       "0    CCCTGTCTACCACCCAGACTATCGTGTAGTTCTGCCTGTTCCGTAA...   \n",
       "1    CCCTGTCTACCACCCAGACTATCGTGTAGTTCTGCCTGTTCCGTAA...   \n",
       "2    CCCTGTCTACCACCCAGACTATCGTGTAGTTCTGCCTGTTCCGTAA...   \n",
       "3    AGACTATCGTGTAGTTCTGCCTGTTCCGTAAGTCGTAGATTGCTAT...   \n",
       "4    AGACTATCGTGTAGTTCTGCCTGTTCCGTAAGTCGTAGATTGCTAT...   \n",
       "..                                                 ...   \n",
       "370  AAAAATGGAGATATTATAGTCGACCAAGTATTGGCGTCGAACAACC...   \n",
       "371  AAAAATGGAGATATTATAGTCGACCAAGTATTGGCGTCGAACAACC...   \n",
       "372  ATAGTCGACCAAGTATTGGCGTCGAACAACCGCGCCCTGCAGAATC...   \n",
       "373  ATAGTCGACCAAGTATTGGCGTCGAACAACCGCGCCCTGCAGAATC...   \n",
       "374  TTGGCGTCGAACAACCGCGCCCTGCAGAATCCCAAGATTCGCCAGG...   \n",
       "\n",
       "                                                   end  overlap  \n",
       "0    AGACTATCGTGTAGTTCTGCCTGTTCCGTAAGTCGTAGATTGCTAT...       85  \n",
       "1    TCTGCCTGTTCCGTAAGTCGTAGATTGCTATCCTGGAAATCATCGT...       70  \n",
       "2    AGTCGTAGATTGCTATCCTGGAAATCATCGTGCTCAGGATGTTAAT...       55  \n",
       "3    TCTGCCTGTTCCGTAAGTCGTAGATTGCTATCCTGGAAATCATCGT...       85  \n",
       "4    AGTCGTAGATTGCTATCCTGGAAATCATCGTGCTCAGGATGTTAAT...       70  \n",
       "..                                                 ...      ...  \n",
       "370  TTGGCGTCGAACAACCGCGCCCTGCAGAATCCCAAGATTCGCCAGG...       70  \n",
       "371  CGCGCCCTGCAGAATCCCAAGATTCGCCAGGCGGCGAACGAGGCCT...       55  \n",
       "372  TTGGCGTCGAACAACCGCGCCCTGCAGAATCCCAAGATTCGCCAGG...       85  \n",
       "373  CGCGCCCTGCAGAATCCCAAGATTCGCCAGGCGGCGAACGAGGCCT...       70  \n",
       "374  CGCGCCCTGCAGAATCCCAAGATTCGCCAGGCGGCGAACGAGGCCT...       85  \n",
       "\n",
       "[375 rows x 3 columns]"
      ]
     },
     "execution_count": 27,
     "metadata": {},
     "output_type": "execute_result"
    }
   ],
   "source": [
    "updated_df"
   ]
  },
  {
   "cell_type": "markdown",
   "metadata": {},
   "source": [
    "Using the updated dictionary, we first find the starting sequence. Then, we look for the next longest match that equals the start (previously appended) string. We append the distinct suffix onto the final string. We repeat this until we arrive at the final string."
   ]
  },
  {
   "cell_type": "code",
   "execution_count": 19,
   "metadata": {
    "scrolled": true
   },
   "outputs": [
    {
     "name": "stdout",
     "output_type": "stream",
     "text": [
      "CCCTGTCTACCACCCAGACTATCGTGTAGTTCTGCCTGTTCCGTAAGTCGTAGATTGCTATCCTGGAAATCATCGTGCTCAGGATGTTAATATCTAGCGTCCTACGTTACGAGTTGGCAGATGACAGATCGTAGTCGTGGTAAGGGGCATTGCCGCTTGTGACCCAGTTCGCGTGCCTAGCAGCACTCCAAAATAAAGTTTACAGTACCGTCCGGACGGCAGAACTGTCCTCTAGATCGTCCTAACGCCTTAGTCGAATCCCTTGCCGTCGGTAACCACTGAATAAACTACGCGTTAGGACTTTGTCAGACGCGAGGAGCTAGTAGGAGGACAAATCAGCAAACGACCCTGAATTGAACAATGTGAGTAGGTATAACTGTGCTTGTATGACGTCCCGTTCGGTCGTTCTTGAGCAACTTCGGCCAGTGCATGCTATGGGGGAAGCTATGAATTCTATGTTGGAACTTGGGCCCGGCATAGTAGTTTATGCCTGTGGACCGGTGTTGAGTGTATCTGCTGGACCCCGGCGCGTTCACCTGTCCACATCTAATCCAAACATATACTATTGGTATTTGAGCGTCTCACAACGACATCGACTGGTATTAGACACCTACCAGGAACAACCAATCGGTTTAGATGACGCACAGCCACGGACAGCCTCTGTTGCTTGAGCAGTCCCAAAGTGCGTACCTGAAGCCTGCCAAAACGTAGCCTAGGCAAATGCCCGTCGTCTTGCTCATAACTCCTTGGGACTGGCGTATCCATAAATAATCCATTCGATTCCTTGAGAGTTCCACATTAGAGACTTATCCATCGAGGATCAGGCCAAATCCGCGAGACCCGACCGAGATCAAGTATAACTCATTACGCGTGGTGTGGTTGCGGCCCACCCTTATCGTGAGCCAGTTGTTGGATATACCCCTGGGCGGGCCTAAAGCTCCGCAACGAACACCCCCTCCGCTGTGTCTGGTCGATTCTGGCTAGCCGCTCCGTTTGGGTAACAAATCACAGGACGCCATGGATTGCCTCTTAAGTCTGGCCAGTCGGGATGTCCTGCAGCCCGGGTCACTTCTCTGGTACCCTCTTGGCATAACTTCTTCAAATTTAGAGTTTAATGTTTCGGGTGAGCTGCATACTGTGATGGGGGGTACTTGGCGTCAAGCGCCACCTTTAGTAGTACTCGAAAAGGCTCATGGTAAACCGTGCATACGTTCTAAGGTTCCCCGCTATGGACTGGACCGACCACGAAGTGGTGGATCATGAGACGTACCTGCTTAAGTCGGTGATTGACGTCACACCTCTCGCGCCCATAGCGAAGCTTATGTACTAAACCCCTTAGTGTTAAGTCCTTACATCTGTTATGTCTATTGGAGGACAAGGGGTGTACGCTGCACAGAGCCTTCTTCAGGTAGGAAGAATACAAAATGCCTTTTTCGACACGTATAAGCCGACGAGAGTAACACTGATATCAGCGAAAAATGGGCCCGGGTGTAGAGCGATGTATTTGCTGTTTTATGTGTCCAGGCAACTCCTAACGTCGTTAAGAAGCACCTTTCTTAGATCCACCGACCCGCGCTGCCTACAATGAGCACTTGTGCTTCTCATATTTAATACTTCGCATACCTAGAAACCACAAGTAGCTGACCGACTAACGCAACGGCTTCGATGATAAAGTATTGACCTTTCGCTTTTTTGACATACTTCCCCGTCACCTGCGATCGGGCCCGGTGTGTTCATATACGATGCCTCTCCACTTGTCGACAAGCCAGTCACTATGTAAGCGAACCACCATAATTGATCGACGATAAAGTGACGCGTCCATGCTCATGTATTTATATGACGGCCAAAAATGGAGATATTATAGTCGACCAAGTATTGGCGTCGAACAACCGCGCCCTGCAGAATCCCAAGATTCGCCAGGCGGCGAACGAGGCCTACGGGCAACGGGTTATACTTAGCTGCAACCAACGCCTTTCCACATGTTTGAGAA\n"
     ]
    }
   ],
   "source": [
    "final_string = find_start(seq_list,5)[0]\n",
    "start = find_start(seq_list,5)[0]\n",
    "y = True\n",
    "\n",
    "for x in updated_dict: \n",
    "    for y in updated_dict: \n",
    "        if (y[0] == start): \n",
    "            start = y[1]\n",
    "            #print(start)\n",
    "            final_string = final_string + (y[1][y[2]:])\n",
    "    \n",
    "print(final_string)"
   ]
  }
 ],
 "metadata": {
  "kernelspec": {
   "display_name": "Python 3",
   "language": "python",
   "name": "python3"
  },
  "language_info": {
   "codemirror_mode": {
    "name": "ipython",
    "version": 3
   },
   "file_extension": ".py",
   "mimetype": "text/x-python",
   "name": "python",
   "nbconvert_exporter": "python",
   "pygments_lexer": "ipython3",
   "version": "3.11.1"
  }
 },
 "nbformat": 4,
 "nbformat_minor": 4
}
